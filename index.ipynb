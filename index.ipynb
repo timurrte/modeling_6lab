{
 "cells": [
  {
   "cell_type": "code",
   "execution_count": null,
   "metadata": {
    "vscode": {
     "languageId": "plaintext"
    }
   },
   "outputs": [],
   "source": [
    "x1_0, x2_0, x3_0 = 4, 1.75, 380\n",
    "x1_delta, x2_delta, x3_delta = 1, 0.25, 20\n",
    "\n",
    "x1_min = 3\n",
    "x1_max = 5\n",
    "x2_min = 1.5\n",
    "x2_max = 2.0\n",
    "x3_min = 360\n",
    "x3_max = 400\n",
    "\n",
    "factorial_plan = np.array([\n",
    "    [-1, -1, -1],\n",
    "    [+1, -1, -1],\n",
    "    [-1, +1, -1],\n",
    "    [+1, +1, -1],\n",
    "    [-1, -1, +1],\n",
    "    [+1, -1, +1],\n",
    "    [-1, +1, +1],\n",
    "    [+1, +1, +1],\n",
    "])\n",
    "\n",
    "# Данные эксперимента (y1 и y2)\n",
    "y1 = np.array([-0.5673, -0.6888, -0.7090, -0.4870, -0.6790, -0.4875, -0.8650, 0.7890])\n",
    "y2 = np.array([-0.6723, -0.5460, -0.5090, -0.4170, -0.7550, -0.8875, -1.0650, 0.1330])"
   ]
  },
  {
   "cell_type": "code",
   "execution_count": null,
   "metadata": {
    "vscode": {
     "languageId": "plaintext"
    }
   },
   "outputs": [],
   "source": [
    "y_mean = (y1 + y2) / 2\n",
    "\n",
    "x1 = x1_0 + x1_delta * factorial_plan[:, 0]\n",
    "x2 = x2_0 + x2_delta * factorial_plan[:, 1]\n",
    "x3 = x3_0 + x3_delta * factorial_plan[:, 2]"
   ]
  },
  {
   "cell_type": "code",
   "execution_count": null,
   "metadata": {
    "vscode": {
     "languageId": "plaintext"
    }
   },
   "outputs": [],
   "source": [
    "X = np.hstack([np.ones((len(factorial_plan), 1)), factorial_plan])\n",
    "b = np.linalg.inv(X.T @ X) @ X.T @ y_mean"
   ]
  }
 ],
 "metadata": {
  "language_info": {
   "name": "python"
  }
 },
 "nbformat": 4,
 "nbformat_minor": 2
}
